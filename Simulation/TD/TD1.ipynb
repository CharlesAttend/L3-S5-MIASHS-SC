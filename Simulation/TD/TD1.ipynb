{
 "cells": [
  {
   "cell_type": "code",
   "execution_count": 2,
   "metadata": {},
   "outputs": [],
   "source": [
    "from numpy.random import *"
   ]
  },
  {
   "cell_type": "code",
   "execution_count": 3,
   "metadata": {},
   "outputs": [
    {
     "data": {
      "text/plain": [
       "False"
      ]
     },
     "execution_count": 3,
     "metadata": {},
     "output_type": "execute_result"
    }
   ],
   "source": [
    "0.2<random()<0.3"
   ]
  },
  {
   "cell_type": "code",
   "execution_count": 4,
   "metadata": {},
   "outputs": [
    {
     "data": {
      "text/plain": [
       "66"
      ]
     },
     "execution_count": 4,
     "metadata": {},
     "output_type": "execute_result"
    }
   ],
   "source": [
    "sum([int(random()*10) for i in range(10)])"
   ]
  },
  {
   "cell_type": "code",
   "execution_count": 5,
   "metadata": {},
   "outputs": [
    {
     "data": {
      "text/plain": [
       "0"
      ]
     },
     "execution_count": 5,
     "metadata": {},
     "output_type": "execute_result"
    }
   ],
   "source": [
    "#Lancé de dès\n",
    "sum([int(int(random()*10)==6) for i in range(10)])"
   ]
  },
  {
   "cell_type": "code",
   "execution_count": 6,
   "metadata": {},
   "outputs": [
    {
     "data": {
      "text/plain": [
       "496"
      ]
     },
     "execution_count": 6,
     "metadata": {},
     "output_type": "execute_result"
    }
   ],
   "source": [
    "# Pile ou face mille fois\n",
    "sum([int(random()<0.5) for i in range(1000)])"
   ]
  },
  {
   "cell_type": "code",
   "execution_count": 7,
   "metadata": {},
   "outputs": [
    {
     "name": "stdout",
     "output_type": "stream",
     "text": [
      "\u001b[0;31mDocstring:\u001b[0m\n",
      "binomial(n, p, size=None)\n",
      "\n",
      "Draw samples from a binomial distribution.\n",
      "\n",
      "Samples are drawn from a binomial distribution with specified\n",
      "parameters, n trials and p probability of success where\n",
      "n an integer >= 0 and p is in the interval [0,1]. (n may be\n",
      "input as a float, but it is truncated to an integer in use)\n",
      "\n",
      ".. note::\n",
      "    New code should use the ``binomial`` method of a ``default_rng()``\n",
      "    instance instead; please see the :ref:`random-quick-start`.\n",
      "\n",
      "Parameters\n",
      "----------\n",
      "n : int or array_like of ints\n",
      "    Parameter of the distribution, >= 0. Floats are also accepted,\n",
      "    but they will be truncated to integers.\n",
      "p : float or array_like of floats\n",
      "    Parameter of the distribution, >= 0 and <=1.\n",
      "size : int or tuple of ints, optional\n",
      "    Output shape.  If the given shape is, e.g., ``(m, n, k)``, then\n",
      "    ``m * n * k`` samples are drawn.  If size is ``None`` (default),\n",
      "    a single value is returned if ``n`` and ``p`` are both scalars.\n",
      "    Otherwise, ``np.broadcast(n, p).size`` samples are drawn.\n",
      "\n",
      "Returns\n",
      "-------\n",
      "out : ndarray or scalar\n",
      "    Drawn samples from the parameterized binomial distribution, where\n",
      "    each sample is equal to the number of successes over the n trials.\n",
      "\n",
      "See Also\n",
      "--------\n",
      "scipy.stats.binom : probability density function, distribution or\n",
      "    cumulative density function, etc.\n",
      "Generator.binomial: which should be used for new code.\n",
      "\n",
      "Notes\n",
      "-----\n",
      "The probability density for the binomial distribution is\n",
      "\n",
      ".. math:: P(N) = \\binom{n}{N}p^N(1-p)^{n-N},\n",
      "\n",
      "where :math:`n` is the number of trials, :math:`p` is the probability\n",
      "of success, and :math:`N` is the number of successes.\n",
      "\n",
      "When estimating the standard error of a proportion in a population by\n",
      "using a random sample, the normal distribution works well unless the\n",
      "product p*n <=5, where p = population proportion estimate, and n =\n",
      "number of samples, in which case the binomial distribution is used\n",
      "instead. For example, a sample of 15 people shows 4 who are left\n",
      "handed, and 11 who are right handed. Then p = 4/15 = 27%. 0.27*15 = 4,\n",
      "so the binomial distribution should be used in this case.\n",
      "\n",
      "References\n",
      "----------\n",
      ".. [1] Dalgaard, Peter, \"Introductory Statistics with R\",\n",
      "       Springer-Verlag, 2002.\n",
      ".. [2] Glantz, Stanton A. \"Primer of Biostatistics.\", McGraw-Hill,\n",
      "       Fifth Edition, 2002.\n",
      ".. [3] Lentner, Marvin, \"Elementary Applied Statistics\", Bogden\n",
      "       and Quigley, 1972.\n",
      ".. [4] Weisstein, Eric W. \"Binomial Distribution.\" From MathWorld--A\n",
      "       Wolfram Web Resource.\n",
      "       http://mathworld.wolfram.com/BinomialDistribution.html\n",
      ".. [5] Wikipedia, \"Binomial distribution\",\n",
      "       https://en.wikipedia.org/wiki/Binomial_distribution\n",
      "\n",
      "Examples\n",
      "--------\n",
      "Draw samples from the distribution:\n",
      "\n",
      ">>> n, p = 10, .5  # number of trials, probability of each trial\n",
      ">>> s = np.random.binomial(n, p, 1000)\n",
      "# result of flipping a coin 10 times, tested 1000 times.\n",
      "\n",
      "A real world example. A company drills 9 wild-cat oil exploration\n",
      "wells, each with an estimated probability of success of 0.1. All nine\n",
      "wells fail. What is the probability of that happening?\n",
      "\n",
      "Let's do 20,000 trials of the model, and count the number that\n",
      "generate zero positive results.\n",
      "\n",
      ">>> sum(np.random.binomial(9, 0.1, 20000) == 0)/20000.\n",
      "# answer = 0.38885, or 38%.\n",
      "\u001b[0;31mType:\u001b[0m      builtin_function_or_method\n"
     ]
    }
   ],
   "source": [
    "binomial?"
   ]
  },
  {
   "cell_type": "code",
   "execution_count": 8,
   "metadata": {},
   "outputs": [
    {
     "data": {
      "text/plain": [
       "array([54, 53, 47, 48, 55, 42, 57, 56, 55, 52])"
      ]
     },
     "execution_count": 8,
     "metadata": {},
     "output_type": "execute_result"
    }
   ],
   "source": [
    "binomial(100, 0.5, 10)"
   ]
  },
  {
   "cell_type": "code",
   "execution_count": 9,
   "metadata": {},
   "outputs": [
    {
     "name": "stdout",
     "output_type": "stream",
     "text": [
      "\u001b[0;31mDocstring:\u001b[0m\n",
      "hypergeometric(ngood, nbad, nsample, size=None)\n",
      "\n",
      "Draw samples from a Hypergeometric distribution.\n",
      "\n",
      "Samples are drawn from a hypergeometric distribution with specified\n",
      "parameters, `ngood` (ways to make a good selection), `nbad` (ways to make\n",
      "a bad selection), and `nsample` (number of items sampled, which is less\n",
      "than or equal to the sum ``ngood + nbad``).\n",
      "\n",
      ".. note::\n",
      "    New code should use the ``hypergeometric`` method of a ``default_rng()``\n",
      "    instance instead; please see the :ref:`random-quick-start`.\n",
      "\n",
      "Parameters\n",
      "----------\n",
      "ngood : int or array_like of ints\n",
      "    Number of ways to make a good selection.  Must be nonnegative.\n",
      "nbad : int or array_like of ints\n",
      "    Number of ways to make a bad selection.  Must be nonnegative.\n",
      "nsample : int or array_like of ints\n",
      "    Number of items sampled.  Must be at least 1 and at most\n",
      "    ``ngood + nbad``.\n",
      "size : int or tuple of ints, optional\n",
      "    Output shape.  If the given shape is, e.g., ``(m, n, k)``, then\n",
      "    ``m * n * k`` samples are drawn.  If size is ``None`` (default),\n",
      "    a single value is returned if `ngood`, `nbad`, and `nsample`\n",
      "    are all scalars.  Otherwise, ``np.broadcast(ngood, nbad, nsample).size``\n",
      "    samples are drawn.\n",
      "\n",
      "Returns\n",
      "-------\n",
      "out : ndarray or scalar\n",
      "    Drawn samples from the parameterized hypergeometric distribution. Each\n",
      "    sample is the number of good items within a randomly selected subset of\n",
      "    size `nsample` taken from a set of `ngood` good items and `nbad` bad items.\n",
      "\n",
      "See Also\n",
      "--------\n",
      "scipy.stats.hypergeom : probability density function, distribution or\n",
      "    cumulative density function, etc.\n",
      "Generator.hypergeometric: which should be used for new code.\n",
      "\n",
      "Notes\n",
      "-----\n",
      "The probability density for the Hypergeometric distribution is\n",
      "\n",
      ".. math:: P(x) = \\frac{\\binom{g}{x}\\binom{b}{n-x}}{\\binom{g+b}{n}},\n",
      "\n",
      "where :math:`0 \\le x \\le n` and :math:`n-b \\le x \\le g`\n",
      "\n",
      "for P(x) the probability of ``x`` good results in the drawn sample,\n",
      "g = `ngood`, b = `nbad`, and n = `nsample`.\n",
      "\n",
      "Consider an urn with black and white marbles in it, `ngood` of them\n",
      "are black and `nbad` are white. If you draw `nsample` balls without\n",
      "replacement, then the hypergeometric distribution describes the\n",
      "distribution of black balls in the drawn sample.\n",
      "\n",
      "Note that this distribution is very similar to the binomial\n",
      "distribution, except that in this case, samples are drawn without\n",
      "replacement, whereas in the Binomial case samples are drawn with\n",
      "replacement (or the sample space is infinite). As the sample space\n",
      "becomes large, this distribution approaches the binomial.\n",
      "\n",
      "References\n",
      "----------\n",
      ".. [1] Lentner, Marvin, \"Elementary Applied Statistics\", Bogden\n",
      "       and Quigley, 1972.\n",
      ".. [2] Weisstein, Eric W. \"Hypergeometric Distribution.\" From\n",
      "       MathWorld--A Wolfram Web Resource.\n",
      "       http://mathworld.wolfram.com/HypergeometricDistribution.html\n",
      ".. [3] Wikipedia, \"Hypergeometric distribution\",\n",
      "       https://en.wikipedia.org/wiki/Hypergeometric_distribution\n",
      "\n",
      "Examples\n",
      "--------\n",
      "Draw samples from the distribution:\n",
      "\n",
      ">>> ngood, nbad, nsamp = 100, 2, 10\n",
      "# number of good, number of bad, and number of samples\n",
      ">>> s = np.random.hypergeometric(ngood, nbad, nsamp, 1000)\n",
      ">>> from matplotlib.pyplot import hist\n",
      ">>> hist(s)\n",
      "#   note that it is very unlikely to grab both bad items\n",
      "\n",
      "Suppose you have an urn with 15 white and 15 black marbles.\n",
      "If you pull 15 marbles at random, how likely is it that\n",
      "12 or more of them are one color?\n",
      "\n",
      ">>> s = np.random.hypergeometric(15, 15, 15, 100000)\n",
      ">>> sum(s>=12)/100000. + sum(s<=3)/100000.\n",
      "#   answer = 0.003 ... pretty unlikely!\n",
      "\u001b[0;31mType:\u001b[0m      builtin_function_or_method\n"
     ]
    }
   ],
   "source": [
    "hypergeometric?"
   ]
  },
  {
   "cell_type": "code",
   "execution_count": 10,
   "metadata": {},
   "outputs": [
    {
     "data": {
      "text/plain": [
       "array([-1.18132755,  0.93379336, -0.28649941, -0.88633787,  0.31945816])"
      ]
     },
     "execution_count": 10,
     "metadata": {},
     "output_type": "execute_result"
    }
   ],
   "source": [
    "normal(0,1,5)"
   ]
  },
  {
   "cell_type": "code",
   "execution_count": 11,
   "metadata": {},
   "outputs": [
    {
     "name": "stdout",
     "output_type": "stream",
     "text": [
      "\u001b[0;31mDocstring:\u001b[0m\n",
      "normal(loc=0.0, scale=1.0, size=None)\n",
      "\n",
      "Draw random samples from a normal (Gaussian) distribution.\n",
      "\n",
      "The probability density function of the normal distribution, first\n",
      "derived by De Moivre and 200 years later by both Gauss and Laplace\n",
      "independently [2]_, is often called the bell curve because of\n",
      "its characteristic shape (see the example below).\n",
      "\n",
      "The normal distributions occurs often in nature.  For example, it\n",
      "describes the commonly occurring distribution of samples influenced\n",
      "by a large number of tiny, random disturbances, each with its own\n",
      "unique distribution [2]_.\n",
      "\n",
      ".. note::\n",
      "    New code should use the ``normal`` method of a ``default_rng()``\n",
      "    instance instead; please see the :ref:`random-quick-start`.\n",
      "\n",
      "Parameters\n",
      "----------\n",
      "loc : float or array_like of floats\n",
      "    Mean (\"centre\") of the distribution.\n",
      "scale : float or array_like of floats\n",
      "    Standard deviation (spread or \"width\") of the distribution. Must be\n",
      "    non-negative.\n",
      "size : int or tuple of ints, optional\n",
      "    Output shape.  If the given shape is, e.g., ``(m, n, k)``, then\n",
      "    ``m * n * k`` samples are drawn.  If size is ``None`` (default),\n",
      "    a single value is returned if ``loc`` and ``scale`` are both scalars.\n",
      "    Otherwise, ``np.broadcast(loc, scale).size`` samples are drawn.\n",
      "\n",
      "Returns\n",
      "-------\n",
      "out : ndarray or scalar\n",
      "    Drawn samples from the parameterized normal distribution.\n",
      "\n",
      "See Also\n",
      "--------\n",
      "scipy.stats.norm : probability density function, distribution or\n",
      "    cumulative density function, etc.\n",
      "Generator.normal: which should be used for new code.\n",
      "\n",
      "Notes\n",
      "-----\n",
      "The probability density for the Gaussian distribution is\n",
      "\n",
      ".. math:: p(x) = \\frac{1}{\\sqrt{ 2 \\pi \\sigma^2 }}\n",
      "                 e^{ - \\frac{ (x - \\mu)^2 } {2 \\sigma^2} },\n",
      "\n",
      "where :math:`\\mu` is the mean and :math:`\\sigma` the standard\n",
      "deviation. The square of the standard deviation, :math:`\\sigma^2`,\n",
      "is called the variance.\n",
      "\n",
      "The function has its peak at the mean, and its \"spread\" increases with\n",
      "the standard deviation (the function reaches 0.607 times its maximum at\n",
      ":math:`x + \\sigma` and :math:`x - \\sigma` [2]_).  This implies that\n",
      "normal is more likely to return samples lying close to the mean, rather\n",
      "than those far away.\n",
      "\n",
      "References\n",
      "----------\n",
      ".. [1] Wikipedia, \"Normal distribution\",\n",
      "       https://en.wikipedia.org/wiki/Normal_distribution\n",
      ".. [2] P. R. Peebles Jr., \"Central Limit Theorem\" in \"Probability,\n",
      "       Random Variables and Random Signal Principles\", 4th ed., 2001,\n",
      "       pp. 51, 51, 125.\n",
      "\n",
      "Examples\n",
      "--------\n",
      "Draw samples from the distribution:\n",
      "\n",
      ">>> mu, sigma = 0, 0.1 # mean and standard deviation\n",
      ">>> s = np.random.normal(mu, sigma, 1000)\n",
      "\n",
      "Verify the mean and the variance:\n",
      "\n",
      ">>> abs(mu - np.mean(s))\n",
      "0.0  # may vary\n",
      "\n",
      ">>> abs(sigma - np.std(s, ddof=1))\n",
      "0.1  # may vary\n",
      "\n",
      "Display the histogram of the samples, along with\n",
      "the probability density function:\n",
      "\n",
      ">>> import matplotlib.pyplot as plt\n",
      ">>> count, bins, ignored = plt.hist(s, 30, density=True)\n",
      ">>> plt.plot(bins, 1/(sigma * np.sqrt(2 * np.pi)) *\n",
      "...                np.exp( - (bins - mu)**2 / (2 * sigma**2) ),\n",
      "...          linewidth=2, color='r')\n",
      ">>> plt.show()\n",
      "\n",
      "Two-by-four array of samples from N(3, 6.25):\n",
      "\n",
      ">>> np.random.normal(3, 2.5, size=(2, 4))\n",
      "array([[-4.49401501,  4.00950034, -1.81814867,  7.29718677],   # random\n",
      "       [ 0.39924804,  4.68456316,  4.99394529,  4.84057254]])  # random\n",
      "\u001b[0;31mType:\u001b[0m      builtin_function_or_method\n"
     ]
    }
   ],
   "source": [
    "normal?"
   ]
  },
  {
   "cell_type": "code",
   "execution_count": 12,
   "metadata": {},
   "outputs": [
    {
     "data": {
      "text/plain": [
       "array([0.30494854, 0.03147293, 0.05263836, 0.15075217, 0.37455766,\n",
       "       0.14808537, 0.08995598, 0.73264906, 0.10227078, 0.04594576])"
      ]
     },
     "execution_count": 12,
     "metadata": {},
     "output_type": "execute_result"
    }
   ],
   "source": [
    "exponential(1/5,10)"
   ]
  },
  {
   "cell_type": "code",
   "execution_count": 13,
   "metadata": {},
   "outputs": [
    {
     "name": "stdout",
     "output_type": "stream",
     "text": [
      "\u001b[0;31mDocstring:\u001b[0m\n",
      "exponential(scale=1.0, size=None)\n",
      "\n",
      "Draw samples from an exponential distribution.\n",
      "\n",
      "Its probability density function is\n",
      "\n",
      ".. math:: f(x; \\frac{1}{\\beta}) = \\frac{1}{\\beta} \\exp(-\\frac{x}{\\beta}),\n",
      "\n",
      "for ``x > 0`` and 0 elsewhere. :math:`\\beta` is the scale parameter,\n",
      "which is the inverse of the rate parameter :math:`\\lambda = 1/\\beta`.\n",
      "The rate parameter is an alternative, widely used parameterization\n",
      "of the exponential distribution [3]_.\n",
      "\n",
      "The exponential distribution is a continuous analogue of the\n",
      "geometric distribution.  It describes many common situations, such as\n",
      "the size of raindrops measured over many rainstorms [1]_, or the time\n",
      "between page requests to Wikipedia [2]_.\n",
      "\n",
      ".. note::\n",
      "    New code should use the ``exponential`` method of a ``default_rng()``\n",
      "    instance instead; please see the :ref:`random-quick-start`.\n",
      "\n",
      "Parameters\n",
      "----------\n",
      "scale : float or array_like of floats\n",
      "    The scale parameter, :math:`\\beta = 1/\\lambda`. Must be\n",
      "    non-negative.\n",
      "size : int or tuple of ints, optional\n",
      "    Output shape.  If the given shape is, e.g., ``(m, n, k)``, then\n",
      "    ``m * n * k`` samples are drawn.  If size is ``None`` (default),\n",
      "    a single value is returned if ``scale`` is a scalar.  Otherwise,\n",
      "    ``np.array(scale).size`` samples are drawn.\n",
      "\n",
      "Returns\n",
      "-------\n",
      "out : ndarray or scalar\n",
      "    Drawn samples from the parameterized exponential distribution.\n",
      "\n",
      "See Also\n",
      "--------\n",
      "Generator.exponential: which should be used for new code.\n",
      "\n",
      "References\n",
      "----------\n",
      ".. [1] Peyton Z. Peebles Jr., \"Probability, Random Variables and\n",
      "       Random Signal Principles\", 4th ed, 2001, p. 57.\n",
      ".. [2] Wikipedia, \"Poisson process\",\n",
      "       https://en.wikipedia.org/wiki/Poisson_process\n",
      ".. [3] Wikipedia, \"Exponential distribution\",\n",
      "       https://en.wikipedia.org/wiki/Exponential_distribution\n",
      "\u001b[0;31mType:\u001b[0m      builtin_function_or_method\n"
     ]
    }
   ],
   "source": [
    "exponential?"
   ]
  },
  {
   "cell_type": "markdown",
   "metadata": {},
   "source": [
    "# Exercice 3 "
   ]
  },
  {
   "cell_type": "code",
   "execution_count": 14,
   "metadata": {},
   "outputs": [],
   "source": [
    "from math import *"
   ]
  },
  {
   "cell_type": "code",
   "execution_count": 15,
   "metadata": {},
   "outputs": [
    {
     "data": {
      "text/plain": [
       "[0.6037624975087189,\n",
       " 1.2600101776976997,\n",
       " 1.0623076616190654,\n",
       " 1.1416307501375342,\n",
       " 0.9256234192623938,\n",
       " 1.1632228013298134,\n",
       " 0.7598799575545078,\n",
       " 0.9040270343787441,\n",
       " 0.9461727821422509,\n",
       " 0.8962451995770506]"
      ]
     },
     "execution_count": 15,
     "metadata": {},
     "output_type": "execute_result"
    }
   ],
   "source": [
    "# 1 \n",
    "a=5\n",
    "[(-log(1-random()))**(1/a) for i in range(10)]"
   ]
  },
  {
   "cell_type": "code",
   "execution_count": 16,
   "metadata": {},
   "outputs": [
    {
     "name": "stdout",
     "output_type": "stream",
     "text": [
      "\u001b[0;31mDocstring:\u001b[0m\n",
      "weibull(a, size=None)\n",
      "\n",
      "Draw samples from a Weibull distribution.\n",
      "\n",
      "Draw samples from a 1-parameter Weibull distribution with the given\n",
      "shape parameter `a`.\n",
      "\n",
      ".. math:: X = (-ln(U))^{1/a}\n",
      "\n",
      "Here, U is drawn from the uniform distribution over (0,1].\n",
      "\n",
      "The more common 2-parameter Weibull, including a scale parameter\n",
      ":math:`\\lambda` is just :math:`X = \\lambda(-ln(U))^{1/a}`.\n",
      "\n",
      ".. note::\n",
      "    New code should use the ``weibull`` method of a ``default_rng()``\n",
      "    instance instead; please see the :ref:`random-quick-start`.\n",
      "\n",
      "Parameters\n",
      "----------\n",
      "a : float or array_like of floats\n",
      "    Shape parameter of the distribution.  Must be nonnegative.\n",
      "size : int or tuple of ints, optional\n",
      "    Output shape.  If the given shape is, e.g., ``(m, n, k)``, then\n",
      "    ``m * n * k`` samples are drawn.  If size is ``None`` (default),\n",
      "    a single value is returned if ``a`` is a scalar.  Otherwise,\n",
      "    ``np.array(a).size`` samples are drawn.\n",
      "\n",
      "Returns\n",
      "-------\n",
      "out : ndarray or scalar\n",
      "    Drawn samples from the parameterized Weibull distribution.\n",
      "\n",
      "See Also\n",
      "--------\n",
      "scipy.stats.weibull_max\n",
      "scipy.stats.weibull_min\n",
      "scipy.stats.genextreme\n",
      "gumbel\n",
      "Generator.weibull: which should be used for new code.\n",
      "\n",
      "Notes\n",
      "-----\n",
      "The Weibull (or Type III asymptotic extreme value distribution\n",
      "for smallest values, SEV Type III, or Rosin-Rammler\n",
      "distribution) is one of a class of Generalized Extreme Value\n",
      "(GEV) distributions used in modeling extreme value problems.\n",
      "This class includes the Gumbel and Frechet distributions.\n",
      "\n",
      "The probability density for the Weibull distribution is\n",
      "\n",
      ".. math:: p(x) = \\frac{a}\n",
      "                 {\\lambda}(\\frac{x}{\\lambda})^{a-1}e^{-(x/\\lambda)^a},\n",
      "\n",
      "where :math:`a` is the shape and :math:`\\lambda` the scale.\n",
      "\n",
      "The function has its peak (the mode) at\n",
      ":math:`\\lambda(\\frac{a-1}{a})^{1/a}`.\n",
      "\n",
      "When ``a = 1``, the Weibull distribution reduces to the exponential\n",
      "distribution.\n",
      "\n",
      "References\n",
      "----------\n",
      ".. [1] Waloddi Weibull, Royal Technical University, Stockholm,\n",
      "       1939 \"A Statistical Theory Of The Strength Of Materials\",\n",
      "       Ingeniorsvetenskapsakademiens Handlingar Nr 151, 1939,\n",
      "       Generalstabens Litografiska Anstalts Forlag, Stockholm.\n",
      ".. [2] Waloddi Weibull, \"A Statistical Distribution Function of\n",
      "       Wide Applicability\", Journal Of Applied Mechanics ASME Paper\n",
      "       1951.\n",
      ".. [3] Wikipedia, \"Weibull distribution\",\n",
      "       https://en.wikipedia.org/wiki/Weibull_distribution\n",
      "\n",
      "Examples\n",
      "--------\n",
      "Draw samples from the distribution:\n",
      "\n",
      ">>> a = 5. # shape\n",
      ">>> s = np.random.weibull(a, 1000)\n",
      "\n",
      "Display the histogram of the samples, along with\n",
      "the probability density function:\n",
      "\n",
      ">>> import matplotlib.pyplot as plt\n",
      ">>> x = np.arange(1,100.)/50.\n",
      ">>> def weib(x,n,a):\n",
      "...     return (a / n) * (x / n)**(a - 1) * np.exp(-(x / n)**a)\n",
      "\n",
      ">>> count, bins, ignored = plt.hist(np.random.weibull(5.,1000))\n",
      ">>> x = np.arange(1,100.)/50.\n",
      ">>> scale = count.max()/weib(x, 1., 5.).max()\n",
      ">>> plt.plot(x, weib(x, 1., 5.)*scale)\n",
      ">>> plt.show()\n",
      "\u001b[0;31mType:\u001b[0m      builtin_function_or_method\n"
     ]
    }
   ],
   "source": [
    "weibull?"
   ]
  },
  {
   "cell_type": "markdown",
   "metadata": {},
   "source": [
    "# Exercice 4"
   ]
  },
  {
   "cell_type": "code",
   "execution_count": 17,
   "metadata": {},
   "outputs": [],
   "source": [
    "import matplotlib.pyplot as plt"
   ]
  },
  {
   "cell_type": "code",
   "execution_count": 18,
   "metadata": {},
   "outputs": [
    {
     "data": {
      "text/plain": [
       "<BarContainer object of 2 artists>"
      ]
     },
     "execution_count": 18,
     "metadata": {},
     "output_type": "execute_result"
    },
    {
     "data": {
      "image/png": "[encoded data removed]",
      "text/plain": [
       "<Figure size 432x288 with 1 Axes>"
      ]
     },
     "metadata": {
      "needs_background": "light"
     },
     "output_type": "display_data"
    }
   ],
   "source": [
    "plt.bar([0,1], [1/3, 2/3])"
   ]
  },
  {
   "cell_type": "code",
   "execution_count": 19,
   "metadata": {},
   "outputs": [
    {
     "data": {
      "text/plain": [
       "<BarContainer object of 4 artists>"
      ]
     },
     "execution_count": 19,
     "metadata": {},
     "output_type": "execute_result"
    },
    {
     "data": {
      "image/png": "[encoded data removed]",
      "text/plain": [
       "<Figure size 432x288 with 1 Axes>"
      ]
     },
     "metadata": {
      "needs_background": "light"
     },
     "output_type": "display_data"
    }
   ],
   "source": [
    "plt.bar([0,1,2,3], [1/8,3/8,3/8,1/8])"
   ]
  },
  {
   "cell_type": "code",
   "execution_count": 20,
   "metadata": {},
   "outputs": [
    {
     "data": {
      "text/plain": [
       "(array([5., 0., 0., 0., 0., 0., 0., 0., 0., 5.]),\n",
       " array([0. , 0.1, 0.2, 0.3, 0.4, 0.5, 0.6, 0.7, 0.8, 0.9, 1. ]),\n",
       " <BarContainer object of 10 artists>)"
      ]
     },
     "execution_count": 20,
     "metadata": {},
     "output_type": "execute_result"
    },
    {
     "data": {
      "image/png": "[encoded data removed]",
      "text/plain": [
       "<Figure size 432x288 with 1 Axes>"
      ]
     },
     "metadata": {
      "needs_background": "light"
     },
     "output_type": "display_data"
    }
   ],
   "source": [
    "tirage = [int(random()<0.5) for i in range(10)]\n",
    "plt.hist(tirage)"
   ]
  },
  {
   "cell_type": "markdown",
   "metadata": {},
   "source": [
    "# Exercice 6 "
   ]
  },
  {
   "cell_type": "code",
   "execution_count": 27,
   "metadata": {},
   "outputs": [
    {
     "data": {
      "text/plain": [
       "-1.443117810456282"
      ]
     },
     "execution_count": 27,
     "metadata": {},
     "output_type": "execute_result"
    }
   ],
   "source": [
    "s=0\n",
    "n=10000000\n",
    "for i in range(n):\n",
    "    s += log(random())/log(2)\n",
    "s/n"
   ]
  },
  {
   "cell_type": "code",
   "execution_count": 28,
   "metadata": {},
   "outputs": [
    {
     "data": {
      "text/plain": [
       "-1.4426950408889634"
      ]
     },
     "execution_count": 28,
     "metadata": {},
     "output_type": "execute_result"
    }
   ],
   "source": [
    "-1/log(2)"
   ]
  }
 ],
 "metadata": {
  "interpreter": {
   "hash": "31f2aee4e71d21fbe5cf8b01ff0e069b9275f58929596ceb00d14d90e3e16cd6"
  },
  "kernelspec": {
   "display_name": "Python 3.8.10 64-bit",
   "name": "python3"
  },
  "language_info": {
   "codemirror_mode": {
    "name": "ipython",
    "version": 3
   },
   "file_extension": ".py",
   "mimetype": "text/x-python",
   "name": "python",
   "nbconvert_exporter": "python",
   "pygments_lexer": "ipython3",
   "version": "3.8.10"
  },
  "orig_nbformat": 4
 },
 "nbformat": 4,
 "nbformat_minor": 2
}
